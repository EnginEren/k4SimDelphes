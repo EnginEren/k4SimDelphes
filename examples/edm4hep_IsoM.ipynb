{
 "cells": [
  {
   "cell_type": "code",
   "execution_count": 1,
   "id": "2ad9d47c",
   "metadata": {},
   "outputs": [
    {
     "name": "stdout",
     "output_type": "stream",
     "text": [
      "Welcome to JupyROOT 6.24/06\n"
     ]
    }
   ],
   "source": [
    "import numpy as np\n",
    "import uproot\n",
    "import awkward as ak\n",
    "import time\n",
    "import ROOT\n",
    "import mplhep as hep\n",
    "import matplotlib as mpl\n",
    "import matplotlib.pyplot as plt\n",
    "hep.style.use(hep.style.ROOT)"
   ]
  },
  {
   "cell_type": "markdown",
   "id": "715eca6f",
   "metadata": {},
   "source": [
    "## Option 1: Awkard + uproot + EDM4Hep file"
   ]
  },
  {
   "cell_type": "code",
   "execution_count": 2,
   "id": "389c007b",
   "metadata": {
    "scrolled": false
   },
   "outputs": [
    {
     "name": "stdout",
     "output_type": "stream",
     "text": [
      "total time: 0.43001389503479004 sec\n"
     ]
    },
    {
     "data": {
      "image/png": "[encoded data removed]",
      "text/plain": [
       "<Figure size 720x504 with 1 Axes>"
      ]
     },
     "metadata": {
      "needs_background": "light"
     },
     "output_type": "display_data"
    }
   ],
   "source": [
    "starttime = time.time()\n",
    "\n",
    "up4_events = uproot.open(\"./edm4hep_output.root:events;6\", num_workers=8)\n",
    "#up4_events.show()\n",
    "mu_index = up4_events['Muon#0/Muon#0.index'].array()\n",
    "\n",
    "reco = up4_events['ReconstructedParticles'].arrays(\n",
    "    [\"ReconstructedParticles.energy\", \n",
    "     \"ReconstructedParticles.momentum.x\",\n",
    "     \"ReconstructedParticles.momentum.y\",\n",
    "     \"ReconstructedParticles.momentum.z\",\n",
    "     \"ReconstructedParticles.charge\"\n",
    "    ]\n",
    ")\n",
    "\n",
    "\n",
    "## VERY important!! \n",
    "## go to RECO collection and get muons!!!\n",
    "muons = reco[mu_index]\n",
    "\n",
    "#Require 2 muons\n",
    "cut = (ak.num(muons[\"ReconstructedParticles.charge\"]) == 2)\n",
    "\n",
    "#First and second muon\n",
    "mu1 = muons[cut, 0]\n",
    "mu2 = muons[cut, 1]\n",
    "\n",
    "invMass_up4 = np.sqrt(  (mu1['ReconstructedParticles.energy']     + mu2['ReconstructedParticles.energy'])**2 - \n",
    "                        (mu1['ReconstructedParticles.momentum.x'] + mu2['ReconstructedParticles.momentum.x'])**2  - \n",
    "                        (mu1['ReconstructedParticles.momentum.y'] + mu2['ReconstructedParticles.momentum.y'])**2  -\n",
    "                        (mu1['ReconstructedParticles.momentum.z'] + mu2['ReconstructedParticles.momentum.z'])**2 \n",
    "                     )\n",
    "\n",
    "\n",
    "f, axs = plt.subplots(figsize=(10, 7))\n",
    "h, bins = np.histogram(invMass_up4, range=[0,250], bins=100)\n",
    "hep.histplot(h, bins)\n",
    "axs.set_xlim([0, 250])\n",
    "axs.text(0.01, 0.85, \"nEntries: {:d}\".format(sum(h)), horizontalalignment='left',verticalalignment='top', \n",
    "             transform=axs.transAxes, color = 'black', fontsize=17)\n",
    "\n",
    "\n",
    "\n",
    "awkward_time = time.time() - starttime\n",
    "print(f\"total time: {awkward_time} sec\")\n"
   ]
  },
  {
   "cell_type": "markdown",
   "id": "9fd99f83",
   "metadata": {},
   "source": [
    "## Option 2: EDM4hep with EventStore (python)"
   ]
  },
  {
   "cell_type": "code",
   "execution_count": 3,
   "id": "9af8b9df",
   "metadata": {},
   "outputs": [
    {
     "name": "stdout",
     "output_type": "stream",
     "text": [
      "total time: 5.3989715576171875 sec\n"
     ]
    }
   ],
   "source": [
    "from EventStore import EventStore\n",
    "\n",
    "roothist = ROOT.TH1D(\"roothist\", \"IsoMuons-Edm4hep\", 100, 0, 250)\n",
    "\n",
    "starttime = time.time()\n",
    "events = EventStore('./edm4hep_output.root')\n",
    "\n",
    "for event in events:\n",
    "        \n",
    "    muons = event.get('Muon') # Make sure to get the name right\n",
    "    if len(muons) != 2: continue\n",
    "\n",
    "    \n",
    "    ##get momentum and energy of muons\n",
    "    mom1 = muons[0].getMomentum()\n",
    "    em1 = muons[0].getEnergy()\n",
    "    mom2 = muons[1].getMomentum()\n",
    "    em2 = muons[1].getEnergy()\n",
    "    # calculate the mass, fill histogram, etc.\n",
    "    \n",
    "    px = mom1.x + mom2.x\n",
    "    py = mom1.y + mom2.y\n",
    "    pz = mom1.z + mom2.z\n",
    "    e  = em1 + em2  \n",
    "    \n",
    "    roothist.Fill(\n",
    "            np.sqrt(e**2 - px**2 - py**2 - pz**2)\n",
    "        )\n",
    "\n",
    "edm4hep_EventStore_time = time.time() - starttime\n",
    "print(f\"total time: {edm4hep_EventStore_time} sec\")\n",
    "    "
   ]
  },
  {
   "cell_type": "code",
   "execution_count": 4,
   "id": "24f7de0d",
   "metadata": {},
   "outputs": [
    {
     "data": {
      "image/png": "[encoded data removed]",
      "text/plain": [
       "<IPython.core.display.Image object>"
      ]
     },
     "metadata": {},
     "output_type": "display_data"
    }
   ],
   "source": [
    "canvas = ROOT.TCanvas()\n",
    "roothist.Draw()\n",
    "canvas.Draw()"
   ]
  },
  {
   "cell_type": "markdown",
   "id": "6bea8549",
   "metadata": {},
   "source": [
    "## Opton 3: EDM4hep with EventStore (C++)"
   ]
  },
  {
   "cell_type": "code",
   "execution_count": 5,
   "id": "422b0956",
   "metadata": {
    "scrolled": false
   },
   "outputs": [
    {
     "data": {
      "text/plain": [
       "True"
      ]
     },
     "execution_count": 5,
     "metadata": {},
     "output_type": "execute_result"
    }
   ],
   "source": [
    "import ROOT\n",
    "\n",
    "cpp_code = \"\"\"\n",
    "\n",
    "#include \"podio/ROOTReader.h\"\n",
    "#include \"podio/EventStore.h\"\n",
    "\n",
    "#include \"edm4hep/ReconstructedParticleCollection.h\"\n",
    "\n",
    "\n",
    "\n",
    "\n",
    "void compute(TH1D& roothist, const char* FILEN) {\n",
    "    \n",
    "    \n",
    "    \n",
    "    auto reader = podio::ROOTReader();\n",
    "    reader.openFile(FILEN);\n",
    "\n",
    "\n",
    "    auto store = podio::EventStore();\n",
    "    store.setReader(&reader);\n",
    "    \n",
    "    \n",
    "    \n",
    "    for (size_t i = 0; i < reader.getEntries(); ++i) {\n",
    "       auto& muons = store.get<edm4hep::ReconstructedParticleCollection>(\"Muon\");\n",
    "      \n",
    "       if (muons.size() != 2) {\n",
    "           store.clear();\n",
    "           reader.endOfEvent();\n",
    "           continue;\n",
    "       }\n",
    "       \n",
    "       // the two muons\n",
    "       const auto mom1 = muons[0].getMomentum(); \n",
    "       const auto mom2 = muons[1].getMomentum();\n",
    "       \n",
    "       \n",
    "       const auto em1 = muons[0].getEnergy();\n",
    "       const auto em2 = muons[1].getEnergy();\n",
    "       \n",
    "       float px =  mom1.x + mom2.x;\n",
    "       float py =  mom1.y + mom2.y;\n",
    "       float pz =  mom1.z + mom2.z;\n",
    "       float e  =  em1 + em2;\n",
    "       \n",
    "       roothist.Fill(  \n",
    "           sqrt(e*e - px*px - py*py - pz*pz  )\n",
    "       );\n",
    "\n",
    "      // at the end of each event\n",
    "      store.clear();\n",
    "      reader.endOfEvent();\n",
    "    }\n",
    "\n",
    "\n",
    "}\n",
    "\"\"\"\n",
    "\n",
    "ROOT.gInterpreter.AddIncludePath(\"/home/ilc/podio\");\n",
    "ROOT.gSystem.Load(\"libpodioRootIO.so\")\n",
    "\n",
    "\n",
    "ROOT.gSystem.Load(\"/home/ilc/EDM4hep/install/lib/libedm4hep.so\");\n",
    "ROOT.gSystem.Load(\"/home/ilc/EDM4hep/install/lib/libedm4hepDict.so\");\n",
    "\n",
    "\n",
    "\n",
    "ROOT.gInterpreter.Declare(cpp_code)\n",
    "\n",
    "\n"
   ]
  },
  {
   "cell_type": "code",
   "execution_count": 6,
   "id": "51c2e261",
   "metadata": {
    "scrolled": false
   },
   "outputs": [
    {
     "name": "stdout",
     "output_type": "stream",
     "text": [
      "total time: 2.6133415699005127 sec\n"
     ]
    }
   ],
   "source": [
    "import time\n",
    "starttime = time.time()\n",
    "\n",
    "roothist2 = ROOT.TH1D(\"roothist2\", \"invMass of Iso_muons\", 100, 0, 250)\n",
    "\n",
    "ROOT.compute(roothist2, \"./edm4hep_output.root\")\n",
    "\n",
    "\n",
    "cppedm_time = time.time() - starttime\n",
    "print(f\"total time: {cppedm_time} sec\")\n"
   ]
  },
  {
   "cell_type": "code",
   "execution_count": 7,
   "id": "0203a33a",
   "metadata": {},
   "outputs": [
    {
     "data": {
      "image/png": "[encoded data removed]",
      "text/plain": [
       "<IPython.core.display.Image object>"
      ]
     },
     "metadata": {},
     "output_type": "display_data"
    }
   ],
   "source": [
    "canvas = ROOT.TCanvas()\n",
    "roothist2.Draw()\n",
    "canvas.Draw()"
   ]
  },
  {
   "cell_type": "markdown",
   "id": "6c1699ea",
   "metadata": {},
   "source": [
    "from 8th February 2022\n",
    "\n",
    "| EDM4Hep + uproot + awkward          | EDM4Hep + eventStore (python)|  EDM4Hep + eventStore (C++) \n",
    "| ---                                 | ---                          |  ---                        \n",
    "| 0.43                                | 5.40                         |  2.61                     \n"
   ]
  },
  {
   "cell_type": "code",
   "execution_count": null,
   "id": "de353c01",
   "metadata": {},
   "outputs": [],
   "source": []
  }
 ],
 "metadata": {
  "kernelspec": {
   "display_name": "Python 3 (ipykernel)",
   "language": "python",
   "name": "python3"
  },
  "language_info": {
   "codemirror_mode": {
    "name": "ipython",
    "version": 3
   },
   "file_extension": ".py",
   "mimetype": "text/x-python",
   "name": "python",
   "nbconvert_exporter": "python",
   "pygments_lexer": "ipython3",
   "version": "3.9.9"
  }
 },
 "nbformat": 4,
 "nbformat_minor": 5
}
